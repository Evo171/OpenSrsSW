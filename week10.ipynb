{
 "cells": [
  {
   "cell_type": "code",
   "execution_count": 2,
   "id": "6bd9539a",
   "metadata": {},
   "outputs": [
    {
     "name": "stdout",
     "output_type": "stream",
     "text": [
      "죽는 날까지 하늘을 우러러\n",
      "한 점 부끄럼이 없기를,\n",
      "잎새에 이는 루피에도\n",
      "너는 괴로워했다.\n",
      "별을 노래하는 마음으로 \n",
      "모든 죽어가는 것을 사랑해야지\n",
      "그리고 너한테 주어진 길을 \n",
      "걸어가야겠다.\n",
      "오늘 밤에도 별이 루피에 스치운다.\n"
     ]
    }
   ],
   "source": [
    "#실습1\n",
    "str=\"\"\"      죽는 날까지 하늘을 우러러\n",
    "한 점 부끄럼이 없기를,\n",
    "잎새에 이는 바람에도\n",
    "나는 괴로워했다.\n",
    "별을 노래하는 마음으로 \n",
    "모든 죽어가는 것을 사랑해야지\n",
    "그리고 나한테 주어진 길을 \n",
    "걸어가야겠다.\n",
    "오늘 밤에도 별이 바람에 스치운다.       \"\"\"\n",
    "str=str.strip()\n",
    "str=str.replace(\"나\",\"너\")\n",
    "print(str)\n"
   ]
  },
  {
   "cell_type": "code",
   "execution_count": 5,
   "id": "ffcc0cc0",
   "metadata": {},
   "outputs": [
    {
     "name": "stdout",
     "output_type": "stream",
     "text": [
      "Numbers?10 456 777 321\n",
      "Max= 777\n"
     ]
    }
   ],
   "source": [
    "#실습2\n",
    "str=input(\"Numbers?\")\n",
    "slist=str.split()\n",
    "max=int(slist[0])\n",
    "for i in slist[1:]:\n",
    "    num=int(i)\n",
    "    if(num>max):\n",
    "        max=num\n",
    "print(\"Max=\",max)"
   ]
  },
  {
   "cell_type": "code",
   "execution_count": 21,
   "id": "fcee995a",
   "metadata": {},
   "outputs": [
    {
     "name": "stdout",
     "output_type": "stream",
     "text": [
      "\"abc def\" is encoded into \"efg!bcd\"\n",
      "\"efg!bcd\" is decoded into \"abc def\"\n"
     ]
    }
   ],
   "source": [
    "#실습3\n",
    "def conv_asc(str,num):\n",
    "    new_str=\"\"\n",
    "    for i in str:\n",
    "        code=ord(i)   #문자열의 아스키코드를 가져옴\n",
    "        new_str+=chr(code+num)    #chr():어스키코드를 문자로 반환\n",
    "    return new_str    #key만큼 증가\n",
    "\n",
    "def enc(str,key):\n",
    "    list=str.split()     #str를 공백으로 분할 \n",
    "    list=list[::-1]  #list.reverse() 거꾸로 뒤집기\n",
    "    new_str=\" \".join(list)   #공백을 기준으로 합쳐라 \n",
    "    return conv_asc(new_str,key)  #만들걸 key만큼 증가 \n",
    "\n",
    "def dec(str,key):\n",
    "    str=conv_asc(str,key*-1)\n",
    "    list=str.split()\n",
    "    list=list[::-1]\n",
    "    new_str=\" \".join(list)\n",
    "    return new_str\n",
    "\n",
    "str=\"abc def\"\n",
    "enc_str=enc(str,1)#1만큼 증가\n",
    "print(\"\\\"\"+str+\"\\\" is encoded into \\\"\"+enc_str+ \"\\\"\")\n",
    "\n",
    "dec_str=dec(enc_str,1)\n",
    "print(\"\\\"\"+enc_str+\"\\\" is decoded into \\\"\"+dec_str+ \"\\\"\")\n"
   ]
  },
  {
   "cell_type": "code",
   "execution_count": null,
   "id": "83109e18",
   "metadata": {},
   "outputs": [],
   "source": []
  }
 ],
 "metadata": {
  "kernelspec": {
   "display_name": "Python 3 (ipykernel)",
   "language": "python",
   "name": "python3"
  },
  "language_info": {
   "codemirror_mode": {
    "name": "ipython",
    "version": 3
   },
   "file_extension": ".py",
   "mimetype": "text/x-python",
   "name": "python",
   "nbconvert_exporter": "python",
   "pygments_lexer": "ipython3",
   "version": "3.10.4"
  }
 },
 "nbformat": 4,
 "nbformat_minor": 5
}
