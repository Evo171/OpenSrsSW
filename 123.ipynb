{
 "cells": [
  {
   "cell_type": "code",
   "execution_count": 53,
   "id": "befa7c48",
   "metadata": {},
   "outputs": [
    {
     "ename": "AttributeError",
     "evalue": "'int' object has no attribute 'replace'",
     "output_type": "error",
     "traceback": [
      "\u001b[1;31m---------------------------------------------------------------------------\u001b[0m",
      "\u001b[1;31mAttributeError\u001b[0m                            Traceback (most recent call last)",
      "Input \u001b[1;32mIn [53]\u001b[0m, in \u001b[0;36m<cell line: 9>\u001b[1;34m()\u001b[0m\n\u001b[0;32m     10\u001b[0m st\u001b[38;5;241m=\u001b[39mrow[\u001b[38;5;241m12\u001b[39m]\n\u001b[0;32m     12\u001b[0m \u001b[38;5;28;01mif\u001b[39;00m row[\u001b[38;5;241m7\u001b[39m]\u001b[38;5;241m!=\u001b[39m\u001b[38;5;124m\"\u001b[39m\u001b[38;5;124m\"\u001b[39m:\n\u001b[1;32m---> 13\u001b[0m     temp\u001b[38;5;241m=\u001b[39m\u001b[43mtemp_day\u001b[49m\u001b[38;5;241;43m.\u001b[39;49m\u001b[43mreplace\u001b[49m(\u001b[38;5;124m\"\u001b[39m\u001b[38;5;124m.0\u001b[39m\u001b[38;5;124m\"\u001b[39m, \u001b[38;5;124m\"\u001b[39m\u001b[38;5;124m\"\u001b[39m)\n\u001b[0;32m     14\u001b[0m     temp_day\u001b[38;5;241m=\u001b[39m\u001b[38;5;28mint\u001b[39m(temp)\n\u001b[0;32m     15\u001b[0m     \u001b[38;5;28;01mif\u001b[39;00m max_day\u001b[38;5;241m<\u001b[39m\u001b[38;5;241m=\u001b[39mtemp_day:\n",
      "\u001b[1;31mAttributeError\u001b[0m: 'int' object has no attribute 'replace'"
     ]
    }
   ],
   "source": [
    "import csv\n",
    "import pandas as pd\n",
    "import numpy as np\n",
    "f=open(\"E:/Temp/country_vaccinations.csv\")\n",
    "dt=csv.reader(f)\n",
    "next(dt)\n",
    "max_day=-999.0\n",
    "min_day=999.9\n",
    "max_date=\"\"\n",
    "min_date=\"\"\n",
    "st=\"Johnson&Johnson, Oxford/AstraZeneca, Pfizer/BioNTech, Sinopharm/Beijing\"\n",
    "stl=[]\n",
    "stl.append(st.split(\",\"))\n",
    "for row in dt:\n",
    "    st=row[12]\n",
    "\n",
    "    if row[7]!=\"\":\n",
    "        temp=temp_day.replace(\".0\", \"\")\n",
    "        temp_day=int(temp)\n",
    "        if max_day<=temp_day:\n",
    "            max_day=row[7]\n",
    "            max_date=row[2]\n",
    "        if min_day>=temp_day:\n",
    "            min_day=row[7]\n",
    "            min_date=row[2]\n",
    "a=pd.DateFrame()\n",
    "print(st)\n",
    "print(\"가장 많은 날:\",max_day)\n",
    "print(min_day)\n",
    "a\n"
   ]
  },
  {
   "cell_type": "code",
   "execution_count": 46,
   "id": "2145e1bc",
   "metadata": {},
   "outputs": [
    {
     "name": "stdout",
     "output_type": "stream",
     "text": [
      "[['Johnson&Johnson', ' Oxford/AstraZeneca', ' Pfizer/BioNTech', ' Sinopharm/Beijing']]\n"
     ]
    }
   ],
   "source": [
    "import csv\n",
    "import numpy as np\n",
    "import pandas as pd\n",
    "f=open(\"E:/Temp/country_vaccinations.csv\")\n",
    "dt=csv.reader(f)\n",
    "next(dt)\n",
    "st=\"Johnson&Johnson, Oxford/AstraZeneca, Pfizer/BioNTech, Sinopharm/Beijing\"\n",
    "stl=[]\n",
    "\n",
    "    \n",
    "stl.append(st.split(\",\"))\n",
    "\n",
    "   \n",
    "print(stl)\n"
   ]
  },
  {
   "cell_type": "code",
   "execution_count": null,
   "id": "4f8046e9",
   "metadata": {},
   "outputs": [],
   "source": []
  }
 ],
 "metadata": {
  "kernelspec": {
   "display_name": "Python 3 (ipykernel)",
   "language": "python",
   "name": "python3"
  },
  "language_info": {
   "codemirror_mode": {
    "name": "ipython",
    "version": 3
   },
   "file_extension": ".py",
   "mimetype": "text/x-python",
   "name": "python",
   "nbconvert_exporter": "python",
   "pygments_lexer": "ipython3",
   "version": "3.10.4"
  }
 },
 "nbformat": 4,
 "nbformat_minor": 5
}
